{
  "nbformat": 4,
  "nbformat_minor": 0,
  "metadata": {
    "colab": {
      "name": "Lab1_U2.ipynb",
      "provenance": []
    },
    "kernelspec": {
      "name": "python3",
      "display_name": "Python 3"
    },
    "language_info": {
      "name": "python"
    }
  },
  "cells": [
    {
      "cell_type": "code",
      "execution_count": null,
      "metadata": {
        "id": "BcMBgbYKNqs7"
      },
      "outputs": [],
      "source": [
        "import glob\n",
        "import pandas as pd\n",
        "import xml.etree.ElementTree as ET\n",
        "from datetime import datetime\n",
        "\n"
      ]
    },
    {
      "cell_type": "code",
      "source": [
        "!wget https://cf-courses-data.s3.us.cloud-object-storage.appdomain.cloud/IBMDeveloperSkillsNetwork-PY0221EN-SkillsNetwork/labs/module%206/Lab%20-%20Extract%20Transform%20Load/data/datasource.zip"
      ],
      "metadata": {
        "colab": {
          "base_uri": "https://localhost:8080/"
        },
        "id": "iNRPCRHtOvnf",
        "outputId": "d0145e7c-0b7c-42de-ce3c-456448cf3e1d"
      },
      "execution_count": null,
      "outputs": [
        {
          "output_type": "stream",
          "name": "stdout",
          "text": [
            "--2022-01-12 04:07:54--  https://cf-courses-data.s3.us.cloud-object-storage.appdomain.cloud/IBMDeveloperSkillsNetwork-PY0221EN-SkillsNetwork/labs/module%206/Lab%20-%20Extract%20Transform%20Load/data/datasource.zip\n",
            "Resolving cf-courses-data.s3.us.cloud-object-storage.appdomain.cloud (cf-courses-data.s3.us.cloud-object-storage.appdomain.cloud)... 169.45.118.108\n",
            "Connecting to cf-courses-data.s3.us.cloud-object-storage.appdomain.cloud (cf-courses-data.s3.us.cloud-object-storage.appdomain.cloud)|169.45.118.108|:443... connected.\n",
            "HTTP request sent, awaiting response... 200 OK\n",
            "Length: 4249 (4.1K) [application/zip]\n",
            "Saving to: ‘datasource.zip.1’\n",
            "\n",
            "datasource.zip.1    100%[===================>]   4.15K  --.-KB/s    in 0s      \n",
            "\n",
            "2022-01-12 04:07:55 (368 MB/s) - ‘datasource.zip.1’ saved [4249/4249]\n",
            "\n"
          ]
        }
      ]
    },
    {
      "cell_type": "code",
      "source": [
        "!unzip /content/datasource.zip"
      ],
      "metadata": {
        "colab": {
          "base_uri": "https://localhost:8080/"
        },
        "id": "365Z7hBgPETI",
        "outputId": "82f91138-4a49-4d20-a82c-93f9639b793e"
      },
      "execution_count": null,
      "outputs": [
        {
          "output_type": "stream",
          "name": "stdout",
          "text": [
            "Archive:  /content/datasource.zip\n",
            "  inflating: used_car_prices1.csv    \n",
            "  inflating: used_car_prices2.csv    \n",
            "  inflating: used_car_prices3.csv    \n",
            "  inflating: used_car_prices1.json   \n",
            "  inflating: used_car_prices2.json   \n",
            "  inflating: used_car_prices3.json   \n",
            "  inflating: used_car_prices1.xml    \n",
            "  inflating: used_car_prices2.xml    \n",
            "  inflating: used_car_prices3.xml    \n"
          ]
        }
      ]
    },
    {
      "cell_type": "code",
      "source": [
        "tmpfile = \"dealership_temp.tmp\"\n",
        "logfile = \"dealership_logfile.txt\"\n",
        "targetfile = \"dealership_transformed_data.csv\"\n"
      ],
      "metadata": {
        "id": "FBULKZ-5UxCZ"
      },
      "execution_count": null,
      "outputs": []
    },
    {
      "cell_type": "code",
      "source": [
        "def extract_from_csv(file_to_process): \n",
        "    dataframe = pd.read_csv(file_to_process) \n",
        "    return dataframe"
      ],
      "metadata": {
        "id": "S8vYAIh_U0A2"
      },
      "execution_count": null,
      "outputs": []
    },
    {
      "cell_type": "code",
      "source": [
        "def extract_from_json(file_to_process):\n",
        "    dataframe = pd.read_json(file_to_process,lines=True)\n",
        "    return dataframe"
      ],
      "metadata": {
        "id": "JacqrfvzYNyD"
      },
      "execution_count": null,
      "outputs": []
    },
    {
      "cell_type": "code",
      "source": [
        "def extract_from_xml(file_to_process):\n",
        "\n",
        "    dataframe = pd.DataFrame(columns=['car_model','year_of_manufacture','price', 'fuel'])\n",
        "\n",
        "    tree = ET.parse(file_to_process) \n",
        "\n",
        "    root = tree.getroot() \n",
        "\n",
        "    for person in root: \n",
        "\n",
        "        car_model = person.find(\"car_model\").text \n",
        "\n",
        "        year_of_manufacture = int(person.find(\"year_of_manufacture\").text)\n",
        "\n",
        "        price = float(person.find(\"price\").text) \n",
        "\n",
        "        fuel = person.find(\"fuel\").text \n",
        "\n",
        "        dataframe = dataframe.append({\"car_model\":car_model, \"year_of_manufacture\":year_of_manufacture, \"price\":price, \"fuel\":fuel}, ignore_index=True) \n",
        "\n",
        "        return dataframe"
      ],
      "metadata": {
        "id": "BGSCt7jRYQO_"
      },
      "execution_count": null,
      "outputs": []
    },
    {
      "cell_type": "code",
      "source": [
        "def extract():\n",
        "      extracted_data = pd.DataFrame(columns=['car_model','year_of_manufacture','price', 'fuel']) \n",
        "    #for csv files\n",
        "      for csvfile in glob.glob(\"dealership_data/*.csv\"):\n",
        "          extracted_data = extracted_data.append(extract_from_csv(csvfile), ignore_index=True)\n",
        "    #for json files\n",
        "      for jsonfile in glob.glob(\"dealership_data/*.json\"):\n",
        "          extracted_data = extracted_data.append(extract_from_json(jsonfile), ignore_index=True)\n",
        "    #for xml files\n",
        "      for xmlfile in glob.glob(\"dealership_data/*.xml\"):\n",
        "          extracted_data = extracted_data.append(extract_from_xml(xmlfile), ignore_index=True)"
      ],
      "metadata": {
        "id": "iSXvviNCYVph"
      },
      "execution_count": null,
      "outputs": []
    },
    {
      "cell_type": "code",
      "source": [
        "def transform(data):\n",
        "       data['price'] = round(data.price, 2)\n",
        "       return data"
      ],
      "metadata": {
        "id": "ru1CYy0oa0uq"
      },
      "execution_count": null,
      "outputs": []
    },
    {
      "cell_type": "code",
      "source": [
        "def load(targetfile,data_to_load):\n",
        "    data_to_load.to_csv(targetfile)"
      ],
      "metadata": {
        "id": "ukIN83-va6iS"
      },
      "execution_count": null,
      "outputs": []
    },
    {
      "cell_type": "code",
      "source": [
        "def log(message):\n",
        "    timestamp_format=\"%H:%M:%S-%h-%d-%Y\"\n",
        "    #Hour-Minute-Second-MonthName-Day-Year\n",
        "    now = datetime.now() # get current timestamp\n",
        "    timestamp = now.strftime(timestamp_format)\n",
        "    with open(\"dealership_logfile.txt\",\"a\") as f: f.write(timestamp + ',' + message + 'n')"
      ],
      "metadata": {
        "id": "Qx1QLNNVbV2A"
      },
      "execution_count": null,
      "outputs": []
    },
    {
      "cell_type": "code",
      "source": [
        "log(\"ETL Job Started\")"
      ],
      "metadata": {
        "id": "j1ZGpzKqbYkA"
      },
      "execution_count": null,
      "outputs": []
    },
    {
      "cell_type": "code",
      "source": [
        "log(\"Extract phase Started\")\n",
        "extracted_data = extract() \n",
        "log(\"Extract phase Ended\")"
      ],
      "metadata": {
        "id": "vE1uxAWgbao0"
      },
      "execution_count": null,
      "outputs": []
    }
  ]
}